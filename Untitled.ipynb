{
 "cells": [
  {
   "cell_type": "code",
   "execution_count": 1,
   "metadata": {},
   "outputs": [],
   "source": [
    "import moviepy.editor as mp\n",
    "import speech_recognition as sr\n",
    "from os import path\n",
    "from pydub import AudioSegment\n",
    "from scipy import spatial\n",
    "from nltk.corpus import stopwords\n",
    "from nltk.tokenize import word_tokenize\n",
    "import nltk\n",
    "import tensorflow as tf\n",
    "import jellyfish\n",
    "import pandas as pd\n",
    "import cv2\n",
    "from time import sleep\n",
    "import cv2\n",
    "import numpy as np\n",
    "import matplotlib.pyplot as plt \n",
    "import seaborn as sns \n",
    "%matplotlib inline\n"
   ]
  },
  {
   "cell_type": "code",
   "execution_count": 2,
   "metadata": {},
   "outputs": [],
   "source": [
    "from keras.preprocessing.image import img_to_array\n",
    "from keras.preprocessing import image"
   ]
  },
  {
   "cell_type": "code",
   "execution_count": 5,
   "metadata": {},
   "outputs": [],
   "source": [
    "clip = mp.VideoFileClip(r\"sample1.mp4\")"
   ]
  },
  {
   "cell_type": "code",
   "execution_count": 6,
   "metadata": {},
   "outputs": [
    {
     "name": "stderr",
     "output_type": "stream",
     "text": [
      "\r",
      "chunk:   0%|                                                                         | 0/360 [00:00<?, ?it/s, now=None]"
     ]
    },
    {
     "name": "stdout",
     "output_type": "stream",
     "text": [
      "MoviePy - Writing audio in sample1.wav\n"
     ]
    },
    {
     "name": "stderr",
     "output_type": "stream",
     "text": [
      "                                                                                                                       "
     ]
    },
    {
     "name": "stdout",
     "output_type": "stream",
     "text": [
      "MoviePy - Done.\n"
     ]
    },
    {
     "name": "stderr",
     "output_type": "stream",
     "text": [
      "\r"
     ]
    }
   ],
   "source": [
    "clip.audio.write_audiofile(r\"sample1.wav\")"
   ]
  },
  {
   "cell_type": "code",
   "execution_count": 9,
   "metadata": {},
   "outputs": [],
   "source": [
    "r = sr.Recognizer()\n",
    "file_audio = sr.AudioFile('sample1.wav')"
   ]
  },
  {
   "cell_type": "code",
   "execution_count": 10,
   "metadata": {},
   "outputs": [],
   "source": [
    "with file_audio as source:\n",
    "   audio_text = r.record(source)"
   ]
  },
  {
   "cell_type": "code",
   "execution_count": 11,
   "metadata": {},
   "outputs": [],
   "source": [
    "extracted_word=r.recognize_google(audio_text)"
   ]
  },
  {
   "cell_type": "code",
   "execution_count": 12,
   "metadata": {},
   "outputs": [
    {
     "data": {
      "text/plain": [
       "'technology is important for the future technology shape the future and it can help to make it compatible with the nature it can help us to develop Clean Energy transfer possibilities with less emissions and low energy houses to save resources'"
      ]
     },
     "execution_count": 12,
     "metadata": {},
     "output_type": "execute_result"
    }
   ],
   "source": [
    "extracted_word"
   ]
  },
  {
   "cell_type": "code",
   "execution_count": 13,
   "metadata": {},
   "outputs": [],
   "source": [
    "extracted_word_split = extracted_word.split()"
   ]
  },
  {
   "cell_type": "code",
   "execution_count": 14,
   "metadata": {},
   "outputs": [],
   "source": [
    "extracted_word_list = []\n",
    "for i in extracted_word_split:\n",
    "    extracted_word_list.append(i)"
   ]
  },
  {
   "cell_type": "code",
   "execution_count": 12,
   "metadata": {},
   "outputs": [],
   "source": [
    "actual_word = ''\n",
    "with open('actual_word.txt','r') as f:\n",
    "    actual_word=f.read()"
   ]
  },
  {
   "cell_type": "code",
   "execution_count": 13,
   "metadata": {},
   "outputs": [
    {
     "data": {
      "text/plain": [
       "'Why technology is important for the future? Technology shapes the future and it can help to make it compatible with nature. It can help us to develop clean energy, transport possibilities with less emissions and low-energy houses to save resources'"
      ]
     },
     "execution_count": 13,
     "metadata": {},
     "output_type": "execute_result"
    }
   ],
   "source": [
    "actual_word"
   ]
  },
  {
   "cell_type": "code",
   "execution_count": 14,
   "metadata": {},
   "outputs": [],
   "source": [
    "actual_word_split = actual_word.split()"
   ]
  },
  {
   "cell_type": "code",
   "execution_count": 15,
   "metadata": {},
   "outputs": [],
   "source": [
    "actual_word_list = []\n",
    "for i in actual_word_split:\n",
    "    actual_word_list.append(i)"
   ]
  },
  {
   "cell_type": "code",
   "execution_count": 16,
   "metadata": {},
   "outputs": [
    {
     "name": "stdout",
     "output_type": "stream",
     "text": [
      "similarity Percentage: 56.41025641025641\n"
     ]
    }
   ],
   "source": [
    "res = len(set(actual_word_list) & set(extracted_word_list)) / float(len(set(actual_word_list) | set(extracted_word_list))) * 100\n",
    "\n",
    "print(\"similarity Percentage: \" + str(res))"
   ]
  },
  {
   "cell_type": "code",
   "execution_count": 17,
   "metadata": {},
   "outputs": [
    {
     "name": "stdout",
     "output_type": "stream",
     "text": [
      "similarity:  0.6847367880174606\n"
     ]
    }
   ],
   "source": [
    "X_list = word_tokenize(extracted_word) \n",
    "Y_list = word_tokenize(actual_word)\n",
    "  \n",
    "# sw contains the list of stopwords\n",
    "sw = stopwords.words('english') \n",
    "l1 =[];l2 =[]\n",
    "  \n",
    "# remove stop words from the string\n",
    "X_set = {w for w in X_list if not w in sw} \n",
    "Y_set = {w for w in Y_list if not w in sw}\n",
    "  \n",
    "# form a set containing keywords of both strings \n",
    "rvector = X_set.union(Y_set) \n",
    "for w in rvector:\n",
    "    if w in X_set: l1.append(1) # create a vector\n",
    "    else: l1.append(0)\n",
    "    if w in Y_set: l2.append(1)\n",
    "    else: l2.append(0)\n",
    "c = 0\n",
    "  \n",
    "# cosine formula \n",
    "for i in range(len(rvector)):\n",
    "        c+= l1[i]*l2[i]\n",
    "cosine = c / float((sum(l1)*sum(l2))**0.5)\n",
    "print(\"similarity: \", cosine)"
   ]
  },
  {
   "cell_type": "code",
   "execution_count": 18,
   "metadata": {},
   "outputs": [
    {
     "data": {
      "text/plain": [
       "0.8309013833904397"
      ]
     },
     "execution_count": 18,
     "metadata": {},
     "output_type": "execute_result"
    }
   ],
   "source": [
    "jellyfish.jaro_distance(actual_word,extracted_word)"
   ]
  },
  {
   "cell_type": "code",
   "execution_count": 19,
   "metadata": {},
   "outputs": [
    {
     "name": "stdout",
     "output_type": "stream",
     "text": [
      "0.5519640438072779\n"
     ]
    }
   ],
   "source": [
    "BLEUscore = nltk.translate.bleu_score.sentence_bleu([extracted_word_list], actual_word_list)\n",
    "print(BLEUscore)\n"
   ]
  },
  {
   "cell_type": "code",
   "execution_count": 32,
   "metadata": {},
   "outputs": [
    {
     "name": "stdout",
     "output_type": "stream",
     "text": [
      "WARNING:tensorflow:Error in loading the saved optimizer state. As a result, your model is starting with a freshly initialized optimizer.\n"
     ]
    }
   ],
   "source": [
    "face_classifier = cv2.CascadeClassifier('./haarcascade_frontalface_default.xml')\n",
    "classifier =tf.keras.models.load_model('./Emotion_Detection.h5')\n",
    "\n",
    "class_labels = ['Angry','Happy','Neutral','Sad','Surprise']\n",
    "\n",
    "cap = cv2.VideoCapture(0)\n",
    "\n",
    "\n",
    "label_list= []\n",
    "while True:\n",
    "    ret, frame = cap.read()\n",
    "    labels = []\n",
    "    gray = cv2.cvtColor(frame,cv2.COLOR_BGR2GRAY)\n",
    "    faces = face_classifier.detectMultiScale(gray,1.3,5)\n",
    "\n",
    "    for (x,y,w,h) in faces:\n",
    "        \n",
    "        #cv2.rectangle(frame,(x,y),(x+w,y+h),(255,0,0),2)\n",
    "        roi_gray = gray[y:y+h,x:x+w]\n",
    "        roi_gray = cv2.resize(roi_gray,(48,48),interpolation=cv2.INTER_AREA)\n",
    "\n",
    "\n",
    "        if np.sum([roi_gray])!=0:\n",
    "            roi = roi_gray.astype('float')/255.0\n",
    "            roi = img_to_array(roi)\n",
    "            roi = np.expand_dims(roi,axis=0)\n",
    "\n",
    "      \n",
    "\n",
    "            preds = classifier.predict(roi)[0]\n",
    "            #print(\"\\nprediction = \",preds)\n",
    "            label=class_labels[preds.argmax()]\n",
    "            #print(\"\\nprediction max = \",preds.argmax())\n",
    "            #print(\"\\nlabel = \",label)\n",
    "            label_list.append(label)\n",
    "            label_position = (x,y)\n",
    "            cv2.putText(frame,label,label_position,cv2.FONT_HERSHEY_SIMPLEX,2,(0,255,0),3)\n",
    "        else:\n",
    "            cv2.putText(frame,'No Face Found',(20,60),cv2.FONT_HERSHEY_SIMPLEX,2,(0,255,0),3)\n",
    "            print(\"\\n\\n\")\n",
    "    cv2.imshow('Emotion Detector',frame)\n",
    "    if cv2.waitKey(1) & 0xFF == ord('q'):\n",
    "        break\n",
    "\n",
    "cap.release()\n",
    "cv2.destroyAllWindows()\n",
    "\n",
    "\n"
   ]
  },
  {
   "cell_type": "code",
   "execution_count": 33,
   "metadata": {},
   "outputs": [
    {
     "data": {
      "text/plain": [
       "['Neutral',\n",
       " 'Neutral',\n",
       " 'Neutral',\n",
       " 'Neutral',\n",
       " 'Neutral',\n",
       " 'Neutral',\n",
       " 'Neutral',\n",
       " 'Neutral',\n",
       " 'Neutral',\n",
       " 'Neutral',\n",
       " 'Neutral',\n",
       " 'Neutral',\n",
       " 'Neutral',\n",
       " 'Neutral',\n",
       " 'Neutral',\n",
       " 'Neutral',\n",
       " 'Neutral',\n",
       " 'Neutral',\n",
       " 'Neutral',\n",
       " 'Neutral',\n",
       " 'Neutral',\n",
       " 'Neutral',\n",
       " 'Neutral',\n",
       " 'Neutral',\n",
       " 'Neutral',\n",
       " 'Neutral',\n",
       " 'Neutral',\n",
       " 'Neutral',\n",
       " 'Neutral',\n",
       " 'Neutral',\n",
       " 'Neutral',\n",
       " 'Neutral',\n",
       " 'Neutral',\n",
       " 'Neutral',\n",
       " 'Neutral',\n",
       " 'Neutral',\n",
       " 'Neutral',\n",
       " 'Neutral',\n",
       " 'Sad',\n",
       " 'Sad',\n",
       " 'Sad',\n",
       " 'Sad',\n",
       " 'Sad',\n",
       " 'Sad',\n",
       " 'Sad',\n",
       " 'Sad',\n",
       " 'Sad',\n",
       " 'Sad',\n",
       " 'Sad',\n",
       " 'Sad',\n",
       " 'Sad',\n",
       " 'Sad',\n",
       " 'Sad',\n",
       " 'Sad',\n",
       " 'Sad',\n",
       " 'Sad',\n",
       " 'Sad',\n",
       " 'Sad',\n",
       " 'Sad',\n",
       " 'Sad',\n",
       " 'Sad',\n",
       " 'Sad',\n",
       " 'Sad',\n",
       " 'Sad',\n",
       " 'Sad',\n",
       " 'Sad',\n",
       " 'Sad',\n",
       " 'Neutral',\n",
       " 'Neutral',\n",
       " 'Neutral',\n",
       " 'Neutral',\n",
       " 'Sad',\n",
       " 'Neutral',\n",
       " 'Sad',\n",
       " 'Neutral',\n",
       " 'Neutral',\n",
       " 'Neutral',\n",
       " 'Neutral',\n",
       " 'Neutral',\n",
       " 'Neutral',\n",
       " 'Neutral',\n",
       " 'Sad',\n",
       " 'Neutral',\n",
       " 'Neutral',\n",
       " 'Neutral',\n",
       " 'Neutral',\n",
       " 'Sad',\n",
       " 'Sad',\n",
       " 'Neutral',\n",
       " 'Neutral',\n",
       " 'Neutral',\n",
       " 'Neutral',\n",
       " 'Neutral',\n",
       " 'Sad',\n",
       " 'Sad',\n",
       " 'Neutral',\n",
       " 'Sad',\n",
       " 'Sad',\n",
       " 'Sad',\n",
       " 'Sad',\n",
       " 'Sad',\n",
       " 'Sad',\n",
       " 'Sad',\n",
       " 'Neutral',\n",
       " 'Neutral',\n",
       " 'Neutral',\n",
       " 'Sad',\n",
       " 'Sad',\n",
       " 'Sad',\n",
       " 'Sad',\n",
       " 'Sad',\n",
       " 'Sad',\n",
       " 'Sad',\n",
       " 'Sad',\n",
       " 'Sad',\n",
       " 'Sad',\n",
       " 'Sad',\n",
       " 'Sad',\n",
       " 'Sad',\n",
       " 'Sad',\n",
       " 'Sad',\n",
       " 'Sad',\n",
       " 'Sad',\n",
       " 'Sad',\n",
       " 'Sad',\n",
       " 'Sad',\n",
       " 'Sad',\n",
       " 'Sad',\n",
       " 'Sad',\n",
       " 'Sad',\n",
       " 'Sad',\n",
       " 'Sad',\n",
       " 'Sad',\n",
       " 'Sad',\n",
       " 'Sad',\n",
       " 'Sad',\n",
       " 'Sad',\n",
       " 'Sad',\n",
       " 'Sad',\n",
       " 'Sad',\n",
       " 'Sad',\n",
       " 'Sad',\n",
       " 'Sad',\n",
       " 'Sad',\n",
       " 'Sad',\n",
       " 'Neutral',\n",
       " 'Happy',\n",
       " 'Neutral',\n",
       " 'Happy',\n",
       " 'Sad',\n",
       " 'Happy',\n",
       " 'Sad',\n",
       " 'Sad',\n",
       " 'Sad',\n",
       " 'Sad',\n",
       " 'Sad',\n",
       " 'Sad',\n",
       " 'Sad',\n",
       " 'Sad',\n",
       " 'Sad',\n",
       " 'Sad',\n",
       " 'Sad',\n",
       " 'Sad',\n",
       " 'Sad',\n",
       " 'Sad',\n",
       " 'Sad',\n",
       " 'Sad',\n",
       " 'Sad',\n",
       " 'Sad',\n",
       " 'Sad',\n",
       " 'Neutral',\n",
       " 'Neutral',\n",
       " 'Neutral',\n",
       " 'Neutral',\n",
       " 'Neutral',\n",
       " 'Neutral',\n",
       " 'Neutral',\n",
       " 'Neutral',\n",
       " 'Neutral',\n",
       " 'Neutral',\n",
       " 'Neutral',\n",
       " 'Neutral',\n",
       " 'Neutral',\n",
       " 'Neutral',\n",
       " 'Neutral',\n",
       " 'Neutral',\n",
       " 'Neutral',\n",
       " 'Sad',\n",
       " 'Sad',\n",
       " 'Sad',\n",
       " 'Sad',\n",
       " 'Happy',\n",
       " 'Sad',\n",
       " 'Neutral',\n",
       " 'Happy',\n",
       " 'Neutral',\n",
       " 'Sad',\n",
       " 'Sad',\n",
       " 'Sad',\n",
       " 'Sad',\n",
       " 'Sad',\n",
       " 'Sad',\n",
       " 'Sad',\n",
       " 'Sad',\n",
       " 'Sad',\n",
       " 'Sad',\n",
       " 'Sad',\n",
       " 'Sad',\n",
       " 'Neutral',\n",
       " 'Neutral',\n",
       " 'Neutral',\n",
       " 'Neutral',\n",
       " 'Neutral',\n",
       " 'Sad',\n",
       " 'Neutral',\n",
       " 'Neutral',\n",
       " 'Neutral',\n",
       " 'Neutral',\n",
       " 'Neutral',\n",
       " 'Neutral',\n",
       " 'Neutral',\n",
       " 'Neutral',\n",
       " 'Neutral',\n",
       " 'Sad',\n",
       " 'Sad',\n",
       " 'Sad',\n",
       " 'Happy',\n",
       " 'Neutral',\n",
       " 'Happy',\n",
       " 'Neutral',\n",
       " 'Happy',\n",
       " 'Neutral',\n",
       " 'Happy',\n",
       " 'Neutral',\n",
       " 'Happy',\n",
       " 'Neutral',\n",
       " 'Happy',\n",
       " 'Neutral',\n",
       " 'Happy',\n",
       " 'Neutral',\n",
       " 'Happy',\n",
       " 'Neutral',\n",
       " 'Happy',\n",
       " 'Sad',\n",
       " 'Happy',\n",
       " 'Neutral',\n",
       " 'Sad',\n",
       " 'Sad',\n",
       " 'Sad',\n",
       " 'Neutral',\n",
       " 'Sad',\n",
       " 'Neutral',\n",
       " 'Neutral',\n",
       " 'Neutral',\n",
       " 'Neutral',\n",
       " 'Neutral',\n",
       " 'Neutral',\n",
       " 'Neutral',\n",
       " 'Neutral',\n",
       " 'Neutral',\n",
       " 'Neutral',\n",
       " 'Neutral',\n",
       " 'Neutral',\n",
       " 'Neutral',\n",
       " 'Neutral',\n",
       " 'Neutral',\n",
       " 'Neutral',\n",
       " 'Neutral',\n",
       " 'Neutral',\n",
       " 'Neutral',\n",
       " 'Neutral',\n",
       " 'Neutral',\n",
       " 'Neutral',\n",
       " 'Neutral',\n",
       " 'Neutral',\n",
       " 'Neutral',\n",
       " 'Neutral',\n",
       " 'Neutral',\n",
       " 'Neutral',\n",
       " 'Neutral',\n",
       " 'Neutral',\n",
       " 'Neutral',\n",
       " 'Neutral',\n",
       " 'Neutral',\n",
       " 'Neutral',\n",
       " 'Neutral',\n",
       " 'Neutral',\n",
       " 'Neutral',\n",
       " 'Neutral',\n",
       " 'Neutral',\n",
       " 'Neutral',\n",
       " 'Neutral',\n",
       " 'Neutral',\n",
       " 'Neutral',\n",
       " 'Neutral',\n",
       " 'Neutral',\n",
       " 'Neutral',\n",
       " 'Neutral',\n",
       " 'Neutral',\n",
       " 'Neutral',\n",
       " 'Neutral',\n",
       " 'Neutral',\n",
       " 'Neutral',\n",
       " 'Neutral',\n",
       " 'Neutral',\n",
       " 'Neutral',\n",
       " 'Neutral',\n",
       " 'Neutral',\n",
       " 'Neutral',\n",
       " 'Neutral',\n",
       " 'Neutral',\n",
       " 'Neutral',\n",
       " 'Neutral',\n",
       " 'Neutral',\n",
       " 'Surprise',\n",
       " 'Surprise',\n",
       " 'Surprise',\n",
       " 'Surprise',\n",
       " 'Surprise',\n",
       " 'Surprise',\n",
       " 'Surprise',\n",
       " 'Neutral',\n",
       " 'Surprise',\n",
       " 'Surprise',\n",
       " 'Neutral',\n",
       " 'Surprise',\n",
       " 'Surprise',\n",
       " 'Surprise',\n",
       " 'Neutral',\n",
       " 'Neutral',\n",
       " 'Neutral',\n",
       " 'Sad',\n",
       " 'Sad',\n",
       " 'Sad',\n",
       " 'Happy',\n",
       " 'Sad',\n",
       " 'Happy',\n",
       " 'Happy',\n",
       " 'Happy',\n",
       " 'Happy',\n",
       " 'Happy',\n",
       " 'Happy',\n",
       " 'Happy',\n",
       " 'Happy',\n",
       " 'Happy',\n",
       " 'Happy',\n",
       " 'Happy',\n",
       " 'Happy',\n",
       " 'Happy',\n",
       " 'Happy',\n",
       " 'Happy',\n",
       " 'Happy',\n",
       " 'Happy',\n",
       " 'Neutral',\n",
       " 'Happy',\n",
       " 'Happy',\n",
       " 'Happy',\n",
       " 'Happy',\n",
       " 'Neutral',\n",
       " 'Neutral',\n",
       " 'Neutral',\n",
       " 'Neutral',\n",
       " 'Neutral',\n",
       " 'Neutral',\n",
       " 'Neutral',\n",
       " 'Neutral',\n",
       " 'Neutral',\n",
       " 'Neutral',\n",
       " 'Surprise',\n",
       " 'Neutral',\n",
       " 'Neutral',\n",
       " 'Neutral',\n",
       " 'Neutral',\n",
       " 'Happy',\n",
       " 'Happy',\n",
       " 'Happy',\n",
       " 'Happy',\n",
       " 'Neutral',\n",
       " 'Neutral',\n",
       " 'Neutral',\n",
       " 'Neutral',\n",
       " 'Neutral',\n",
       " 'Happy',\n",
       " 'Neutral',\n",
       " 'Sad',\n",
       " 'Sad',\n",
       " 'Neutral',\n",
       " 'Sad',\n",
       " 'Sad',\n",
       " 'Sad',\n",
       " 'Sad',\n",
       " 'Sad',\n",
       " 'Sad',\n",
       " 'Sad',\n",
       " 'Neutral',\n",
       " 'Neutral',\n",
       " 'Neutral',\n",
       " 'Neutral',\n",
       " 'Sad',\n",
       " 'Neutral',\n",
       " 'Neutral',\n",
       " 'Neutral',\n",
       " 'Neutral',\n",
       " 'Neutral',\n",
       " 'Neutral',\n",
       " 'Neutral',\n",
       " 'Neutral',\n",
       " 'Neutral',\n",
       " 'Neutral',\n",
       " 'Neutral',\n",
       " 'Neutral',\n",
       " 'Neutral',\n",
       " 'Neutral',\n",
       " 'Neutral',\n",
       " 'Neutral',\n",
       " 'Neutral',\n",
       " 'Neutral',\n",
       " 'Neutral',\n",
       " 'Happy',\n",
       " 'Happy',\n",
       " 'Happy',\n",
       " 'Happy',\n",
       " 'Happy',\n",
       " 'Happy',\n",
       " 'Neutral',\n",
       " 'Neutral',\n",
       " 'Happy',\n",
       " 'Happy',\n",
       " 'Happy',\n",
       " 'Happy',\n",
       " 'Happy',\n",
       " 'Neutral',\n",
       " 'Neutral',\n",
       " 'Neutral',\n",
       " 'Happy',\n",
       " 'Happy',\n",
       " 'Happy',\n",
       " 'Happy',\n",
       " 'Happy',\n",
       " 'Happy',\n",
       " 'Happy',\n",
       " 'Happy',\n",
       " 'Happy',\n",
       " 'Happy',\n",
       " 'Happy',\n",
       " 'Happy',\n",
       " 'Happy',\n",
       " 'Happy',\n",
       " 'Happy',\n",
       " 'Happy',\n",
       " 'Happy',\n",
       " 'Happy',\n",
       " 'Neutral',\n",
       " 'Neutral',\n",
       " 'Happy',\n",
       " 'Happy',\n",
       " 'Sad',\n",
       " 'Sad',\n",
       " 'Sad',\n",
       " 'Happy',\n",
       " 'Happy',\n",
       " 'Happy',\n",
       " 'Neutral',\n",
       " 'Neutral',\n",
       " 'Happy',\n",
       " 'Happy',\n",
       " 'Happy',\n",
       " 'Happy',\n",
       " 'Neutral',\n",
       " 'Happy',\n",
       " 'Neutral',\n",
       " 'Neutral',\n",
       " 'Neutral',\n",
       " 'Neutral',\n",
       " 'Neutral',\n",
       " 'Happy',\n",
       " 'Neutral',\n",
       " 'Neutral',\n",
       " 'Neutral',\n",
       " 'Neutral',\n",
       " 'Happy',\n",
       " 'Happy',\n",
       " 'Happy',\n",
       " 'Neutral',\n",
       " 'Happy',\n",
       " 'Surprise',\n",
       " 'Neutral',\n",
       " 'Happy',\n",
       " 'Happy',\n",
       " 'Happy',\n",
       " 'Happy',\n",
       " 'Happy',\n",
       " 'Happy',\n",
       " 'Happy',\n",
       " 'Happy',\n",
       " 'Happy',\n",
       " 'Happy',\n",
       " 'Sad',\n",
       " 'Happy',\n",
       " 'Happy',\n",
       " 'Happy',\n",
       " 'Happy',\n",
       " 'Happy',\n",
       " 'Happy',\n",
       " 'Happy',\n",
       " 'Happy',\n",
       " 'Happy',\n",
       " 'Happy',\n",
       " 'Happy',\n",
       " 'Happy',\n",
       " 'Happy',\n",
       " 'Happy',\n",
       " 'Happy',\n",
       " 'Happy',\n",
       " 'Happy',\n",
       " 'Happy',\n",
       " 'Happy',\n",
       " 'Sad',\n",
       " 'Neutral',\n",
       " 'Neutral',\n",
       " 'Neutral',\n",
       " 'Neutral',\n",
       " 'Neutral',\n",
       " 'Neutral',\n",
       " 'Neutral',\n",
       " 'Neutral',\n",
       " 'Neutral',\n",
       " 'Neutral',\n",
       " 'Neutral',\n",
       " 'Neutral',\n",
       " 'Neutral',\n",
       " 'Neutral']"
      ]
     },
     "execution_count": 33,
     "metadata": {},
     "output_type": "execute_result"
    }
   ],
   "source": [
    "label_list"
   ]
  },
  {
   "cell_type": "code",
   "execution_count": 34,
   "metadata": {},
   "outputs": [],
   "source": [
    "df = pd.DataFrame(label_list)"
   ]
  },
  {
   "cell_type": "code",
   "execution_count": 35,
   "metadata": {},
   "outputs": [
    {
     "data": {
      "text/plain": [
       "<matplotlib.axes._subplots.AxesSubplot at 0x1a178ebd448>"
      ]
     },
     "execution_count": 35,
     "metadata": {},
     "output_type": "execute_result"
    },
    {
     "data": {
      "image/png": "[encoded data removed]",
      "text/plain": [
       "<Figure size 432x288 with 1 Axes>"
      ]
     },
     "metadata": {
      "needs_background": "light"
     },
     "output_type": "display_data"
    }
   ],
   "source": [
    "sns.countplot(df[0])"
   ]
  },
  {
   "cell_type": "code",
   "execution_count": 36,
   "metadata": {},
   "outputs": [],
   "source": [
    "emo_count=df[0].value_counts()"
   ]
  },
  {
   "cell_type": "code",
   "execution_count": 37,
   "metadata": {},
   "outputs": [],
   "source": [
    "emo_pre = set(label_list)"
   ]
  },
  {
   "cell_type": "code",
   "execution_count": 38,
   "metadata": {},
   "outputs": [
    {
     "data": {
      "text/plain": [
       "{'Happy', 'Neutral', 'Sad', 'Surprise'}"
      ]
     },
     "execution_count": 38,
     "metadata": {},
     "output_type": "execute_result"
    }
   ],
   "source": [
    "emo_pre"
   ]
  },
  {
   "cell_type": "code",
   "execution_count": 39,
   "metadata": {},
   "outputs": [
    {
     "data": {
      "image/png": "[encoded data removed]",
      "text/plain": [
       "<Figure size 432x288 with 1 Axes>"
      ]
     },
     "metadata": {},
     "output_type": "display_data"
    }
   ],
   "source": [
    "colors = ['#FF0000', '#0000FF', '#FFFF00', \n",
    "          '#ADFF2F', '#FFA500']\n",
    "\n",
    "plt.pie(emo_count, colors=colors, labels=emo_pre,\n",
    "        autopct='%1.1f%%', pctdistance=0.85,\n",
    "        )\n",
    "  \n",
    "# draw circle\n",
    "centre_circle = plt.Circle((0, 0), 0.70, fc='white')\n",
    "fig = plt.gcf()\n",
    "  \n",
    "# Adding Circle in Pie chart\n",
    "fig.gca().add_artist(centre_circle)\n",
    "  \n",
    "# Adding Title of chart\n",
    "plt.title('Employee Emotions')\n",
    "  \n",
    "# Displaing Chart\n",
    "plt.show()"
   ]
  },
  {
   "cell_type": "code",
   "execution_count": null,
   "metadata": {},
   "outputs": [],
   "source": []
  }
 ],
 "metadata": {
  "kernelspec": {
   "display_name": "Python 3",
   "language": "python",
   "name": "python3"
  },
  "language_info": {
   "codemirror_mode": {
    "name": "ipython",
    "version": 3
   },
   "file_extension": ".py",
   "mimetype": "text/x-python",
   "name": "python",
   "nbconvert_exporter": "python",
   "pygments_lexer": "ipython3",
   "version": "3.8.8"
  }
 },
 "nbformat": 4,
 "nbformat_minor": 4
}
